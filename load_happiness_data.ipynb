{
 "cells": [
  {
   "cell_type": "code",
   "execution_count": 3,
   "id": "684b2077",
   "metadata": {},
   "outputs": [
    {
     "name": "stdout",
     "output_type": "stream",
     "text": [
      "Collecting python-dotenv\n",
      "  Downloading python_dotenv-1.1.0-py3-none-any.whl.metadata (24 kB)\n",
      "Downloading python_dotenv-1.1.0-py3-none-any.whl (20 kB)\n",
      "Installing collected packages: python-dotenv\n",
      "Successfully installed python-dotenv-1.1.0\n",
      "Note: you may need to restart the kernel to use updated packages.\n"
     ]
    }
   ],
   "source": [
    "pip install python-dotenv\n"
   ]
  },
  {
   "cell_type": "code",
   "execution_count": 4,
   "id": "e4274a92",
   "metadata": {},
   "outputs": [
    {
     "name": "stdout",
     "output_type": "stream",
     "text": [
      "Data load complete.\n"
     ]
    }
   ],
   "source": [
    "import os\n",
    "import pandas as pd\n",
    "import mysql.connector\n",
    "from dotenv import load_dotenv\n",
    "\n",
    "# Load credentials from .env\n",
    "load_dotenv()\n",
    "\n",
    "db_host = os.getenv(\"DB_HOST\")\n",
    "db_user = os.getenv(\"DB_USER\")\n",
    "db_password = os.getenv(\"DB_PASSWORD\")\n",
    "db_name = os.getenv(\"DB_NAME\")\n",
    "\n",
    "# Read the CSV file\n",
    "df = pd.read_csv(\"cleaned_data/happiness_cleaned.csv\")\n",
    "\n",
    "# Connect to MySQL\n",
    "conn = mysql.connector.connect(\n",
    "    host=db_host,\n",
    "    user=db_user,\n",
    "    password=db_password,\n",
    "    database=db_name\n",
    ")\n",
    "cursor = conn.cursor()\n",
    "\n",
    "# Insert countries (ignore duplicates)\n",
    "country_insert = \"\"\"\n",
    "    INSERT IGNORE INTO countries (country_name, region)\n",
    "    VALUES (%s, %s)\n",
    "\"\"\"\n",
    "countries = df[[\"country\", \"region\"]].drop_duplicates().values.tolist()\n",
    "cursor.executemany(country_insert, countries)\n",
    "conn.commit()\n",
    "\n",
    "# Fetch country_id mapping\n",
    "cursor.execute(\"SELECT country_id, country_name FROM countries\")\n",
    "country_map = {name: cid for cid, name in cursor.fetchall()}\n",
    "\n",
    "# Prepare happiness data with mapped country_id\n",
    "records = []\n",
    "for _, row in df.iterrows():\n",
    "    country_id = country_map.get(row[\"country\"])\n",
    "    if country_id:\n",
    "        records.append((\n",
    "            country_id,\n",
    "            int(row[\"year\"]),\n",
    "            float(row[\"happiness_score\"]),\n",
    "            float(row[\"gdp\"]),\n",
    "            float(row[\"social_support\"]),\n",
    "            float(row[\"life_expectancy\"]),\n",
    "            float(row[\"freedom\"]),\n",
    "            float(row[\"corruption\"]),\n",
    "            float(row[\"generosity\"])\n",
    "        ))\n",
    "\n",
    "# Insert happiness data\n",
    "data_insert = \"\"\"\n",
    "    INSERT IGNORE INTO happiness_data (\n",
    "        country_id, year, happiness_score,\n",
    "        gdp, social_support, life_expectancy,\n",
    "        freedom, corruption, generosity\n",
    "    ) VALUES (%s, %s, %s, %s, %s, %s, %s, %s, %s)\n",
    "\"\"\"\n",
    "cursor.executemany(data_insert, records)\n",
    "conn.commit()\n",
    "\n",
    "cursor.close()\n",
    "conn.close()\n",
    "\n",
    "print(\"Data load complete.\")\n"
   ]
  }
 ],
 "metadata": {
  "kernelspec": {
   "display_name": "mysqlenv",
   "language": "python",
   "name": "python3"
  },
  "language_info": {
   "codemirror_mode": {
    "name": "ipython",
    "version": 3
   },
   "file_extension": ".py",
   "mimetype": "text/x-python",
   "name": "python",
   "nbconvert_exporter": "python",
   "pygments_lexer": "ipython3",
   "version": "3.10.16"
  }
 },
 "nbformat": 4,
 "nbformat_minor": 5
}
